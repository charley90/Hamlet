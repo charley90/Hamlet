{
 "cells": [
  {
   "cell_type": "code",
   "execution_count": 31,
   "metadata": {
    "collapsed": false
   },
   "outputs": [],
   "source": [
    "import pandas as pd\n",
    "loans_2007 = pd.read_csv('/Users/charley/百度云同步盘/chen/cc/data/LoanStats3a.csv', skiprows=1)"
   ]
  },
  {
   "cell_type": "code",
   "execution_count": 32,
   "metadata": {
    "collapsed": true
   },
   "outputs": [],
   "source": [
    "## 自动 删除缺失数据太多的列\n",
    "half_count = len(loans_2007) / 2  #设置阈值\n",
    "loans_2007 = loans_2007.dropna(thresh=half_count, axis=1)\n",
    "loans_2007 = loans_2007.drop(['desc', 'url'],axis=1)"
   ]
  },
  {
   "cell_type": "code",
   "execution_count": 33,
   "metadata": {
    "collapsed": true
   },
   "outputs": [],
   "source": [
    "## 自动 去掉单调重复列\n",
    "orig_columns = loans_2007.columns\n",
    "drop_columns = []\n",
    "for col in orig_columns:\n",
    "    col_series = loans_2007[col].dropna().unique()  #不为nan的值\n",
    "    if len(col_series) == 1:\n",
    "        drop_columns.append(col) #将单调的列添加到删除的列中\n",
    "loans_2007 = loans_2007.drop(drop_columns, axis=1)"
   ]
  },
  {
   "cell_type": "code",
   "execution_count": 34,
   "metadata": {
    "collapsed": true
   },
   "outputs": [],
   "source": [
    "## 手动 部分特征剔除\n",
    "loans_2007 = loans_2007.drop([\"id\", \"member_id\", \"funded_amnt\", \"funded_amnt_inv\", \"grade\", \"sub_grade\", \"emp_title\", \"issue_d\",\"title\",\"addr_state\"], axis=1) #无关特征剔除\n",
    "loans_2007 = loans_2007.drop([\"zip_code\", \"out_prncp\", \"out_prncp_inv\", \"total_pymnt\", \"total_pymnt_inv\", \"total_rec_prncp\"], axis=1) #结果特征剔除"
   ]
  },
  {
   "cell_type": "code",
   "execution_count": 35,
   "metadata": {
    "collapsed": true
   },
   "outputs": [],
   "source": [
    "# 删除\n",
    "loans_2007 = loans_2007.dropna(axis=0) #删除掉缺失的行\n",
    "loans_2007 = loans_2007.drop(\"pub_rec_bankruptcies\", axis=1) #删除掉缺失值依然太多的列"
   ]
  },
  {
   "cell_type": "code",
   "execution_count": 36,
   "metadata": {
    "collapsed": true
   },
   "outputs": [],
   "source": [
    "## 半自动 对于cat类别的标签替换\n",
    "loans_2007 = loans_2007[(loans_2007['loan_status'] == \"Fully Paid\") | (loans_2007['loan_status'] == \"Charged Off\")] #有些异常的标签不显示了\n",
    "status_replace = {     #设置替换字典\n",
    "    \"loan_status\" : {\n",
    "        \"Fully Paid\": 1,\n",
    "        \"Charged Off\": 0,\n",
    "    }\n",
    "}\n",
    "loans_2007 = loans_2007.replace(status_replace)  #进行cat类数据替换"
   ]
  },
  {
   "cell_type": "code",
   "execution_count": 37,
   "metadata": {
    "collapsed": true
   },
   "outputs": [],
   "source": [
    "## 半自动 处理数据格式\n",
    "mapping_dict = {\n",
    "    \"emp_length\": {\n",
    "        \"10+ years\": 10,\n",
    "        \"9 years\": 9,\n",
    "        \"8 years\": 8,\n",
    "        \"7 years\": 7,\n",
    "        \"6 years\": 6,\n",
    "        \"5 years\": 5,\n",
    "        \"4 years\": 4,\n",
    "        \"3 years\": 3,\n",
    "        \"2 years\": 2,\n",
    "        \"1 year\": 1,\n",
    "        \"< 1 year\": 0,\n",
    "        \"n/a\": 0\n",
    "    }\n",
    "}\n",
    "loans_2007 = loans_2007.replace(mapping_dict)  #复合格式字典替换\n",
    "\n",
    "loans_2007[\"int_rate\"] = loans_2007[\"int_rate\"].str.rstrip(\"%\").astype(\"float\")  #字符转化\n",
    "loans_2007[\"revol_util\"] = loans_2007[\"revol_util\"].str.rstrip(\"%\").astype(\"float\")"
   ]
  },
  {
   "cell_type": "code",
   "execution_count": 38,
   "metadata": {
    "collapsed": true
   },
   "outputs": [],
   "source": [
    "## 半自动 哑变量处理\n",
    "cat_columns = [\"home_ownership\", \"verification_status\", \"emp_length\", \"purpose\", \"term\"]\n",
    "dummy_df = pd.get_dummies(loans_2007[cat_columns]).astype(\"int64\") #生成哑变量\n",
    "loans_2007 = pd.concat([loans_2007, dummy_df], axis=1) #列向拼接哑变量\n",
    "loans_2007 = loans_2007.drop(cat_columns, axis=1)\n",
    "loans_2007 = loans_2007.drop(\"pymnt_plan\", axis=1)"
   ]
  },
  {
   "cell_type": "code",
   "execution_count": 39,
   "metadata": {
    "collapsed": true
   },
   "outputs": [],
   "source": [
    "## 半自动 时间格式处理\n",
    "loans_2007=loans_2007.drop([\"earliest_cr_line\",\"last_pymnt_d\",\"last_credit_pull_d\"],axis=1)"
   ]
  },
  {
   "cell_type": "code",
   "execution_count": 40,
   "metadata": {
    "collapsed": true
   },
   "outputs": [
    {
     "name": "stdout",
     "output_type": "stream",
     "text": [
      "<class 'pandas.core.frame.DataFrame'>\n",
      "Int64Index: 38745 entries, 0 to 39749\n",
      "Data columns (total 44 columns):\n",
      "loan_amnt                              38745 non-null float64\n",
      "int_rate                               38745 non-null float64\n",
      "installment                            38745 non-null float64\n",
      "annual_inc                             38745 non-null float64\n",
      "loan_status                            38745 non-null int64\n",
      "dti                                    38745 non-null float64\n",
      "delinq_2yrs                            38745 non-null float64\n",
      "inq_last_6mths                         38745 non-null float64\n",
      "open_acc                               38745 non-null float64\n",
      "pub_rec                                38745 non-null float64\n",
      "revol_bal                              38745 non-null float64\n",
      "revol_util                             38745 non-null float64\n",
      "total_acc                              38745 non-null float64\n",
      "total_rec_int                          38745 non-null float64\n",
      "total_rec_late_fee                     38745 non-null float64\n",
      "recoveries                             38745 non-null float64\n",
      "collection_recovery_fee                38745 non-null float64\n",
      "last_pymnt_amnt                        38745 non-null float64\n",
      "acc_now_delinq                         38745 non-null float64\n",
      "delinq_amnt                            38745 non-null float64\n",
      "tax_liens                              38745 non-null float64\n",
      "home_ownership_MORTGAGE                38745 non-null int64\n",
      "home_ownership_OTHER                   38745 non-null int64\n",
      "home_ownership_OWN                     38745 non-null int64\n",
      "home_ownership_RENT                    38745 non-null int64\n",
      "verification_status_Not Verified       38745 non-null int64\n",
      "verification_status_Source Verified    38745 non-null int64\n",
      "verification_status_Verified           38745 non-null int64\n",
      "purpose_car                            38745 non-null int64\n",
      "purpose_credit_card                    38745 non-null int64\n",
      "purpose_debt_consolidation             38745 non-null int64\n",
      "purpose_educational                    38745 non-null int64\n",
      "purpose_home_improvement               38745 non-null int64\n",
      "purpose_house                          38745 non-null int64\n",
      "purpose_major_purchase                 38745 non-null int64\n",
      "purpose_medical                        38745 non-null int64\n",
      "purpose_moving                         38745 non-null int64\n",
      "purpose_other                          38745 non-null int64\n",
      "purpose_renewable_energy               38745 non-null int64\n",
      "purpose_small_business                 38745 non-null int64\n",
      "purpose_vacation                       38745 non-null int64\n",
      "purpose_wedding                        38745 non-null int64\n",
      "term_ 36 months                        38745 non-null int64\n",
      "term_ 60 months                        38745 non-null int64\n",
      "dtypes: float64(20), int64(24)\n",
      "memory usage: 13.3 MB\n",
      "None\n"
     ]
    }
   ],
   "source": [
    "## 最后的结果\n",
    "print loans_2007.info()"
   ]
  },
  {
   "cell_type": "code",
   "execution_count": 68,
   "metadata": {
    "collapsed": false
   },
   "outputs": [],
   "source": [
    "## 数据集处理\n",
    "import numpy as np\n",
    "import xgboost as xgb\n",
    "from sklearn.model_selection import train_test_split \n",
    "\n",
    "cols = loans_2007.columns\n",
    "features= cols.drop(\"loan_status\")\n",
    "x= loans_2007[features]\n",
    "y= loans_2007[\"loan_status\"]\n",
    "x_train, x_test, y_train, y_test = train_test_split(x, y, random_state=1, train_size=0.8)\n",
    "data_train = xgb.DMatrix(x_train, label=y_train)\n",
    "data_test = xgb.DMatrix(x_test, label=y_test)\n"
   ]
  },
  {
   "cell_type": "code",
   "execution_count": 71,
   "metadata": {
    "collapsed": false
   },
   "outputs": [
    {
     "name": "stdout",
     "output_type": "stream",
     "text": [
      "[0]\teval-error:0.000645\ttrain-error:0.001355\teval-error:0.000645\ttrain-error:0.001355\n",
      "[1]\teval-error:0.000645\ttrain-error:0.001355\teval-error:0.000645\ttrain-error:0.001355\n",
      "[2]\teval-error:0.000645\ttrain-error:0.001355\teval-error:0.000645\ttrain-error:0.001355\n",
      "[3]\teval-error:0.000645\ttrain-error:0.001355\teval-error:0.000645\ttrain-error:0.001355\n",
      "[4]\teval-error:0.000645\ttrain-error:0.001355\teval-error:0.000645\ttrain-error:0.001355\n"
     ]
    }
   ],
   "source": [
    "## 模型拟合\n",
    "def log_reg(y_hat, y):\n",
    "    p = 1.0 / (1.0 + np.exp(-y_hat))\n",
    "    g = p - y.get_label()\n",
    "    h = p * (1.0-p)\n",
    "    return g, h\n",
    "\n",
    "def error_rate(y_hat, y):  #定义误差率\n",
    "    return 'error', float(sum(y.get_label() != (y_hat > 0.5))) / len(y_hat)\n",
    "\n",
    "\n",
    "params = {\n",
    "    #'booster': 'gbtree',\n",
    "    'objective': 'binary:logistic',\n",
    "    'subsample': 0.8,\n",
    "    'colsample_bytree': 0.85,\n",
    "    'eta': 0.3,\n",
    "    'max_depth': 3,\n",
    "    'seed': 2016,\n",
    "    'silent': 1,\n",
    "    #'eval_metric': 'rmse'\n",
    "}\n",
    "watchlist = [(data_test, 'eval'), (data_train, 'train')]\n",
    "n_round = 5  # 多少轮\n",
    "bst = xgb.train(param, data_train, num_boost_round=n_round, evals=watchlist, obj=log_reg, feval=error_rate) #添加了损失函数的梯度,和错误的评估方法\n"
   ]
  },
  {
   "cell_type": "code",
   "execution_count": 72,
   "metadata": {
    "collapsed": true
   },
   "outputs": [],
   "source": [
    "##预测\n",
    "y_hat = bst.predict(data_test)\n",
    "y_hat[y_hat>0.5]=1\n",
    "y_hat[y_hat<=0.5]=0\n",
    "y = data_test.get_label()"
   ]
  },
  {
   "cell_type": "code",
   "execution_count": 73,
   "metadata": {
    "collapsed": false
   },
   "outputs": [
    {
     "name": "stdout",
     "output_type": "stream",
     "text": [
      "[[1127    5]\n",
      " [   0 6617]]\n",
      "0.999244941105\n",
      "1.0\n",
      "<function f1_score at 0x10af78320>\n"
     ]
    }
   ],
   "source": [
    "## 评估\n",
    "import sklearn.metrics as metrics\n",
    "from sklearn.metrics import confusion_matrix #Confusion Matrix 混淆矩阵\n",
    "\n",
    "confusion=confusion_matrix(y, y_hat)\n",
    "print confusion_matrix(y, y_hat)\n",
    "TP=confusion[1,1]\n",
    "TN=confusion[0,0]\n",
    "FP=confusion[0,1]\n",
    "FN=confusion[1,1]\n",
    "\n",
    "print metrics.precision_score(y, y_hat) # TP/(TP+FP)\n",
    "print metrics.recall_score(y, y_hat)  # TP/(TP+FN)\n",
    "print metrics.f1_score\n"
   ]
  },
  {
   "cell_type": "code",
   "execution_count": null,
   "metadata": {
    "collapsed": true
   },
   "outputs": [],
   "source": []
  },
  {
   "cell_type": "code",
   "execution_count": null,
   "metadata": {
    "collapsed": true
   },
   "outputs": [],
   "source": []
  }
 ],
 "metadata": {
  "kernelspec": {
   "display_name": "Python 2",
   "language": "python",
   "name": "python2"
  },
  "language_info": {
   "codemirror_mode": {
    "name": "ipython",
    "version": 2
   },
   "file_extension": ".py",
   "mimetype": "text/x-python",
   "name": "python",
   "nbconvert_exporter": "python",
   "pygments_lexer": "ipython2",
   "version": "2.7.13"
  }
 },
 "nbformat": 4,
 "nbformat_minor": 2
}
